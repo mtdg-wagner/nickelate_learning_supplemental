{
 "cells": [
  {
   "cell_type": "code",
   "execution_count": null,
   "metadata": {},
   "outputs": [],
   "source": [
    "import pandas as pd\n",
    "import numpy as np\n",
    "import matplotlib.pyplot as plt\n",
    "from numpy import corrcoef, sum, log, arange\n",
    "import matplotlib\n",
    "from plotly import tools\n",
    "import plotly.plotly as py\n",
    "import plotly.figure_factory as ff\n",
    "import plotly.graph_objs as go"
   ]
  },
  {
   "cell_type": "code",
   "execution_count": null,
   "metadata": {
    "collapsed": true
   },
   "outputs": [],
   "source": [
    "%matplotlib inline\n",
    "plt.rcParams['figure.figsize'] = (16, 10) # First number width, second number height"
   ]
  },
  {
   "cell_type": "code",
   "execution_count": null,
   "metadata": {
    "collapsed": true
   },
   "outputs": [],
   "source": [
    "data_AFM = pd.read_excel('../data/Nickelate_mode_amps_SI.xlsx', index_col=0, sheet_name='AFM')\n",
    "# Drop Overall, Tolerance factor, and Volume columns\n",
    "foo = ['R1', 'R3', 'R4', 'R5', 'X5', 'M2', 'M3', 'M5', 'Radius', 'TMI', 'TN']\n",
    "data_AFM = data_AFM[foo]\n",
    "data_AFM"
   ]
  },
  {
   "cell_type": "code",
   "execution_count": null,
   "metadata": {
    "collapsed": true
   },
   "outputs": [],
   "source": [
    "data_exp = pd.read_excel('../data/Nickelate_mode_amps_SI.xlsx', index_col=0, sheet_name='Experimental')\n",
    "data_exp = data_exp[foo]\n",
    "data_exp"
   ]
  },
  {
   "cell_type": "code",
   "execution_count": null,
   "metadata": {
    "collapsed": true
   },
   "outputs": [],
   "source": [
    "data_exp_norm = pd.read_excel('../data/Nickelate_mode_amps_SI.xlsx',index_col=0, sheet_name='Experimentalscaled')\n",
    "data_exp_norm = data_exp_norm[foo]\n",
    "data_exp_norm"
   ]
  },
  {
   "cell_type": "code",
   "execution_count": null,
   "metadata": {
    "collapsed": true
   },
   "outputs": [],
   "source": [
    "data_dft_norm = pd.read_excel('../data/Nickelate_mode_amps_SI.xlsx',index_col=0, sheet_name='AFMscaled')\n",
    "data_dft_norm = data_dft_norm[foo]\n",
    "data_dft_norm"
   ]
  },
  {
   "cell_type": "markdown",
   "metadata": {},
   "source": [
    "# Comparison of mean and std of mode amplitudes between experiment and theory"
   ]
  },
  {
   "cell_type": "code",
   "execution_count": null,
   "metadata": {
    "scrolled": false
   },
   "outputs": [],
   "source": [
    "data1 = data_AFM.copy().round(3)\n",
    "data2 = data_exp.copy().round(3)\n",
    "\n",
    "'''\n",
    "Creates a bar graph of monoclinic mode amplitudes with standard deviation error bars\n",
    "'''\n",
    "trace1 = go.Bar(\n",
    "    x=['R1', 'R3', 'M5'],\n",
    "    y=data1[['R1', 'R3', 'M5']].mean(axis=0),\n",
    "    name='Theory',\n",
    "    error_y=dict(\n",
    "        type='data',\n",
    "        array=data1[['R1', 'R3', 'M5']].std(axis=0),\n",
    "        visible=True\n",
    "    )\n",
    ")\n",
    "trace2 = go.Bar(\n",
    "    x=['R1', 'R3', 'M5'],\n",
    "    y=data2[['R1', 'R3', 'M5']].mean(axis=0),\n",
    "    name='Experiment',\n",
    "    error_y=dict(\n",
    "        type='data',\n",
    "        array=data2[['R1', 'R3', 'M5']].std(axis=0),\n",
    "        visible=True\n",
    "    )\n",
    ")\n",
    "data = [trace1, trace2]\n",
    "layout = go.Layout(\n",
    "    barmode='group',\n",
    "    font=dict(size=36),\n",
    "    xaxis=dict(title='Mode'),\n",
    "    yaxis=dict(hoverformat= '.2r', title='Amplitude')\n",
    ")\n",
    "fig = go.Figure(data=data, layout=layout)\n",
    "py.iplot(fig, filename='Nickelates/nickelate_mode_bars')"
   ]
  },
  {
   "cell_type": "markdown",
   "metadata": {},
   "source": [
    "# Comparison of heatmaps of correlation coefficients"
   ]
  },
  {
   "cell_type": "code",
   "execution_count": null,
   "metadata": {
    "collapsed": true
   },
   "outputs": [],
   "source": [
    "def heatmap_plot(data, savename=''):\n",
    "    '''\n",
    "    Generates a heatmap plot of the mode amplitudes for a given set of data\n",
    "    '''\n",
    "    matplotlib.rcParams.update({'font.size': 26})\n",
    "    values = data.transpose().values\n",
    "    correlation_matrix = np.corrcoef(values)\n",
    "    fig, ax = plt.subplots(1, 1)\n",
    "    plt.pcolor(correlation_matrix, cmap=plt.get_cmap('GnBu'))\n",
    "    plt.colorbar()\n",
    "    feature_labels = [r'$R^{+}_{1}$', r'$R^{+}_{3}$', r'$R^{+}_{4}$', r'$R^{+}_{5}$', r'$X^{+}_{5}$', \n",
    "                      r'$M^{+}_{2}$', r'$M^{+}_{3}$', r'$M^{+}_{5}$', r'$Radius$', r'$T_{MI}$', r'$T_{N}$']\n",
    "#     feature_labels=list(data)\n",
    "    plt.yticks(arange(0.5,len(data.columns)+0.5),feature_labels)\n",
    "    plt.xticks(arange(0.5,len(data.columns)+0.5),feature_labels)\n",
    "    fig.tight_layout()\n",
    "    if savename:\n",
    "        fig.savefig(\"../plots/\" + savename + '.pdf')\n",
    "        plt.close(fig)\n",
    "    else:    \n",
    "        fig.show()"
   ]
  },
  {
   "cell_type": "code",
   "execution_count": null,
   "metadata": {
    "collapsed": true
   },
   "outputs": [],
   "source": [
    "heatmap_plot(data_exp, savename='Ni_heat_exp')"
   ]
  },
  {
   "cell_type": "code",
   "execution_count": null,
   "metadata": {
    "collapsed": true
   },
   "outputs": [],
   "source": [
    "heatmap_plot(data_AFM, savename='Ni_heat_calcAFM')"
   ]
  },
  {
   "cell_type": "markdown",
   "metadata": {},
   "source": [
    "# Trend of Jahn-Teller with ionic radius"
   ]
  },
  {
   "cell_type": "code",
   "execution_count": null,
   "metadata": {
    "collapsed": true
   },
   "outputs": [],
   "source": [
    "def plotly_scatter_subplots(data1, data2, var1='R1', var2='R3', var3=None):\n",
    "\n",
    "    trace1 = go.Scatter(\n",
    "        x=data1.Radius,\n",
    "        y=data1[var1],\n",
    "        mode='lines+markers+text',\n",
    "        name='Experiment',\n",
    "        text=data1.index.tolist(),\n",
    "        textposition='top',\n",
    "        textfont=dict(\n",
    "        size=50\n",
    "        )\n",
    "    )\n",
    "    \n",
    "    trace2 = go.Scatter(\n",
    "        x=data2.Radius,\n",
    "        y=data2[var1],\n",
    "        mode='lines+markers+text',\n",
    "        name='Theory',\n",
    "        text=data2.index.tolist(),\n",
    "        textfont=dict(\n",
    "        size=50\n",
    "        ),\n",
    "        textposition='top'\n",
    "    )\n",
    "    \n",
    "    trace3 = go.Scatter(\n",
    "        x=data1.Radius,\n",
    "        y=data1[var2],\n",
    "        mode='lines+markers+text',\n",
    "        name='Experiment',\n",
    "        text=data1.index.tolist(),\n",
    "        textfont=dict(\n",
    "        size=50\n",
    "        ),\n",
    "        textposition='top'\n",
    "    )\n",
    "    trace4 = go.Scatter(\n",
    "        x=data2.Radius,\n",
    "        y=data2[var2],\n",
    "        mode='lines+markers+text',\n",
    "        name='Theory',\n",
    "        text=data2.index.tolist(),\n",
    "        textfont=dict(\n",
    "        size=50\n",
    "        ),\n",
    "        textposition='top'\n",
    "    )\n",
    "    if var3:\n",
    "        trace5 = go.Scatter(\n",
    "        x=data1.Radius,\n",
    "        y=data1[var3],\n",
    "        mode='lines+markers+text',\n",
    "        name='Experiment',\n",
    "        text=data1.index.tolist(),\n",
    "        textfont=dict(\n",
    "        size=50\n",
    "            ),\n",
    "        textposition='top'\n",
    "        )\n",
    "        trace6 = go.Scatter(\n",
    "        x=data2.Radius,\n",
    "        y=data2[var3],\n",
    "        mode='lines+markers+text',\n",
    "        name='Theory',\n",
    "        text=data2.index.tolist(),\n",
    "        textfont=dict(\n",
    "        size=50\n",
    "            ),\n",
    "        textposition='top'\n",
    "        )\n",
    "        fig = tools.make_subplots(rows=3, cols=1, shared_xaxes=True, vertical_spacing=0.05)\n",
    "        fig.append_trace(trace1, 1, 1)\n",
    "        fig.append_trace(trace2, 1, 1)\n",
    "        fig.append_trace(trace3, 2, 1)\n",
    "        fig.append_trace(trace4, 2, 1)\n",
    "        fig.append_trace(trace5, 3, 1)\n",
    "        fig.append_trace(trace6, 3, 1)\n",
    "    else:\n",
    "        fig = tools.make_subplots(rows=2, cols=1, shared_xaxes=True, vertical_spacing=0.05)\n",
    "        fig.append_trace(trace1, 1, 1)\n",
    "        fig.append_trace(trace2, 1, 1)\n",
    "        fig.append_trace(trace3, 2, 1)\n",
    "        fig.append_trace(trace4, 2, 1)\n",
    "\n",
    "#     fig['layout'] = layout\n",
    "    return fig"
   ]
  },
  {
   "cell_type": "code",
   "execution_count": null,
   "metadata": {
    "scrolled": true
   },
   "outputs": [],
   "source": [
    "data_exp = pd.read_excel(\"../data/Nickelate_mode_amps_SI.xlsx\", sheet_name='Experimental', index_col=0)\n",
    "data_AFM = pd.read_excel(\"../data/Nickelate_mode_amps_SI.xlsx\", sheet_name='AFM', index_col=0)\n",
    "fig = plotly_scatter_subplots(data_exp, data_AFM, var1='X5', var2='Rdisp')\n",
    "py.iplot(fig, filename='Nickelates/Ni_X5Rdisp_trend')"
   ]
  },
  {
   "cell_type": "code",
   "execution_count": null,
   "metadata": {
    "collapsed": true
   },
   "outputs": [],
   "source": [
    "fig = plotly_scatter_subplots(data_exp, data_AFM, var1='R3', var2='R1', var3='vol_ratio_poly')\n",
    "py.iplot(fig, filename='Nickelates/Ni_R3R1polyvol_trend')"
   ]
  }
 ],
 "metadata": {
  "kernelspec": {
   "display_name": "Python 3",
   "language": "python",
   "name": "python3"
  },
  "language_info": {
   "codemirror_mode": {
    "name": "ipython",
    "version": 3
   },
   "file_extension": ".py",
   "mimetype": "text/x-python",
   "name": "python",
   "nbconvert_exporter": "python",
   "pygments_lexer": "ipython3",
   "version": "3.6.5"
  }
 },
 "nbformat": 4,
 "nbformat_minor": 2
}
